{
 "cells": [
  {
   "cell_type": "markdown",
   "metadata": {},
   "source": [
    "Fake income data, centered around 27,000 with a normal distribution and standard deviation of 15,000, with 10,000 data points. (We'll discuss those terms more later, if you're not familiar with them.)\n",
    "\n",
    "Then, compute the mean (average) - it should be close to 27,000:\n",
    "#sometimes taking median can be better, imagine 1000000 in data will affect a lot but it ll not affect the median calculation"
   ]
  },
  {
   "cell_type": "code",
   "execution_count": 1,
   "metadata": {},
   "outputs": [
    {
     "data": {
      "text/plain": [
       "array([ 8079.55658626, 17393.66051676, 31014.38873108, ...,\n",
       "       -2913.93147736, 30828.51426141, 16930.6895959 ])"
      ]
     },
     "execution_count": 1,
     "metadata": {},
     "output_type": "execute_result"
    }
   ],
   "source": [
    "import numpy as np\n",
    "\n",
    "incomes = np.random.normal(27000, 15000, 10000)#just createme sth what i wish\n",
    "np.mean(incomes)\n",
    "incomes\n"
   ]
  },
  {
   "cell_type": "markdown",
   "metadata": {},
   "source": [
    "We can segment the income data into 50 buckets, and plot it as a histogram:oh hell you can do more "
   ]
  },
  {
   "cell_type": "code",
   "execution_count": 3,
   "metadata": {},
   "outputs": [
    {
     "data": {
      "image/png": "[encoded data removed]",
      "text/plain": [
       "<Figure size 432x288 with 1 Axes>"
      ]
     },
     "metadata": {
      "needs_background": "light"
     },
     "output_type": "display_data"
    }
   ],
   "source": [
    "%matplotlib inline\n",
    "import matplotlib.pyplot as plt\n",
    "plt.hist(incomes, 50)\n",
    "plt.show()"
   ]
  },
  {
   "cell_type": "markdown",
   "metadata": {},
   "source": [
    "Now compute the median - since we have a nice, even distribution it too should be close to 27,000:"
   ]
  },
  {
   "cell_type": "code",
   "execution_count": 4,
   "metadata": {},
   "outputs": [
    {
     "data": {
      "text/plain": [
       "26838.226410638716"
      ]
     },
     "execution_count": 4,
     "metadata": {},
     "output_type": "execute_result"
    }
   ],
   "source": [
    "np.median(incomes)"
   ]
  },
  {
   "cell_type": "markdown",
   "metadata": {},
   "source": [
    "Now we'll add Jeff Bezos into the mix "
   ]
  },
  {
   "cell_type": "code",
   "execution_count": 5,
   "metadata": {},
   "outputs": [],
   "source": [
    "incomes = np.append(incomes, [1000000000])"
   ]
  },
  {
   "cell_type": "markdown",
   "metadata": {},
   "source": [
    "The median won't change much, but the mean does:"
   ]
  },
  {
   "cell_type": "code",
   "execution_count": 6,
   "metadata": {},
   "outputs": [
    {
     "data": {
      "text/plain": [
       "26838.71582030704"
      ]
     },
     "execution_count": 6,
     "metadata": {},
     "output_type": "execute_result"
    }
   ],
   "source": [
    "np.median(incomes)"
   ]
  },
  {
   "cell_type": "code",
   "execution_count": 7,
   "metadata": {},
   "outputs": [
    {
     "data": {
      "text/plain": [
       "126894.9378434975"
      ]
     },
     "execution_count": 7,
     "metadata": {},
     "output_type": "execute_result"
    }
   ],
   "source": [
    "np.mean(incomes)"
   ]
  },
  {
   "cell_type": "markdown",
   "metadata": {},
   "source": [
    "## Mode"
   ]
  },
  {
   "cell_type": "markdown",
   "metadata": {},
   "source": [
    "Next, let's generate some fake age data for 500 people:"
   ]
  },
  {
   "cell_type": "code",
   "execution_count": 8,
   "metadata": {},
   "outputs": [
    {
     "data": {
      "text/plain": [
       "array([51, 80, 87, 61, 20, 76, 79, 46, 56, 29, 72, 42, 73, 69, 68, 80, 18,\n",
       "       55, 75, 67, 26, 47, 50, 31, 39, 45, 87, 67, 73, 57, 22, 48, 49, 24,\n",
       "       71, 19, 80, 60, 41, 72, 41, 50, 43, 42, 26, 25, 22, 76, 58, 81, 69,\n",
       "       65, 82, 81, 79, 84, 72, 79, 86, 77, 31, 58, 43, 80, 22, 65, 24, 83,\n",
       "       22, 60, 24, 24, 33, 65, 31, 80, 64, 80, 48, 29, 30, 66, 80, 25, 32,\n",
       "       33, 18, 40, 82, 21, 70, 80, 47, 56, 83, 21, 55, 36, 80, 41, 51, 81,\n",
       "       63, 25, 58, 70, 52, 35, 88, 45, 89, 27, 65, 62, 71, 25, 33, 35, 62,\n",
       "       49, 40, 77, 65, 19, 80, 76, 40, 59, 35, 29, 84, 81, 34, 52, 39, 49,\n",
       "       56, 27, 64, 81, 73, 84, 58, 70, 83, 31, 57, 26, 23, 83, 30, 52, 65,\n",
       "       72, 47, 38, 65, 65, 71, 74, 24, 39, 43, 42, 37, 43, 88, 51, 37, 66,\n",
       "       56, 62, 37, 72, 26, 22, 56, 81, 22, 83, 80, 46, 43, 22, 86, 22, 32,\n",
       "       24, 41, 47, 57, 42, 82, 36, 31, 43, 31, 28, 82, 30, 55, 45, 45, 56,\n",
       "       46, 39, 59, 32, 85, 48, 53, 52, 50, 24, 38, 32, 76, 54, 87, 43, 51,\n",
       "       57, 23, 52, 62, 54, 67, 33, 81, 40, 21, 56, 20, 75, 86, 35, 33, 68,\n",
       "       31, 73, 75, 82, 31, 70, 22, 37, 76, 52, 71, 48, 39, 31, 25, 30, 35,\n",
       "       83, 54, 35, 50, 47, 64, 84, 57, 36, 76, 63, 53, 40, 66, 68, 77, 47,\n",
       "       43, 70, 75, 88, 69, 77, 86, 55, 58, 83, 31, 54, 87, 61, 37, 86, 38,\n",
       "       31, 29, 66, 77, 34, 31, 35, 68, 63, 70, 67, 67, 73, 83, 67, 83, 88,\n",
       "       61, 73, 86, 82, 18, 70, 24, 30, 32, 40, 48, 41, 88, 58, 71, 18, 22,\n",
       "       68, 56, 48, 76, 87, 76, 68, 27, 62, 86, 64, 66, 66, 32, 20, 78, 72,\n",
       "       58, 70, 24, 19, 43, 78, 63, 66, 89, 21, 76, 42, 87, 83, 40, 29, 61,\n",
       "       70, 60, 58, 66, 19, 74, 46, 63, 44, 48, 39, 74, 29, 47, 32, 73, 23,\n",
       "       49, 74, 27, 65, 32, 40, 42, 44, 42, 66, 18, 31, 88, 29, 61, 52, 40,\n",
       "       47, 82, 35, 80, 55, 78, 57, 48, 43, 83, 33, 53, 66, 58, 67, 82, 80,\n",
       "       61, 63, 81, 77, 79, 74, 81, 18, 45, 27, 57, 37, 58, 76, 78, 68, 67,\n",
       "       36, 34, 50, 82, 64, 78, 46, 67, 38, 36, 38, 40, 56, 58, 71, 61, 68,\n",
       "       45, 66, 88, 59, 46, 58, 70, 67, 25, 30, 59, 55, 69, 31, 74, 67, 71,\n",
       "       24, 28, 44, 60, 51, 35, 53, 38, 80, 75, 74, 69, 81, 36, 21, 49, 71,\n",
       "       76, 70, 37, 50, 72, 61, 83, 37, 63, 21, 21, 46, 29, 74, 88, 53, 36,\n",
       "       19, 36, 31, 80, 18, 84, 38])"
      ]
     },
     "execution_count": 8,
     "metadata": {},
     "output_type": "execute_result"
    }
   ],
   "source": [
    "ages = np.random.randint(18, high=90, size=500)\n",
    "ages"
   ]
  },
  {
   "cell_type": "code",
   "execution_count": 9,
   "metadata": {},
   "outputs": [
    {
     "data": {
      "text/plain": [
       "ModeResult(mode=array([31]), count=array([15]))"
      ]
     },
     "execution_count": 9,
     "metadata": {},
     "output_type": "execute_result"
    }
   ],
   "source": [
    "from scipy import stats\n",
    "stats.mode(ages)"
   ]
  },
  {
   "cell_type": "code",
   "execution_count": 14,
   "metadata": {},
   "outputs": [
    {
     "data": {
      "image/png": "[encoded data removed]",
      "text/plain": [
       "<Figure size 432x288 with 1 Axes>"
      ]
     },
     "metadata": {
      "needs_background": "light"
     },
     "output_type": "display_data"
    }
   ],
   "source": [
    "incomes2 = np.random.normal(100.0, 50.0, 10000)\n",
    "plt.hist(incomes2, 50)\n",
    "plt.show()"
   ]
  },
  {
   "cell_type": "code",
   "execution_count": 15,
   "metadata": {},
   "outputs": [
    {
     "data": {
      "text/plain": [
       "50.306999062495606"
      ]
     },
     "execution_count": 15,
     "metadata": {},
     "output_type": "execute_result"
    }
   ],
   "source": [
    "incomes2.std()"
   ]
  },
  {
   "cell_type": "code",
   "execution_count": 16,
   "metadata": {},
   "outputs": [
    {
     "data": {
      "text/plain": [
       "2530.7941546739335"
      ]
     },
     "execution_count": 16,
     "metadata": {},
     "output_type": "execute_result"
    }
   ],
   "source": [
    "incomes2.var()"
   ]
  },
  {
   "cell_type": "code",
   "execution_count": null,
   "metadata": {},
   "outputs": [],
   "source": []
  }
 ],
 "metadata": {
  "kernelspec": {
   "display_name": "Python 3",
   "language": "python",
   "name": "python3"
  },
  "language_info": {
   "codemirror_mode": {
    "name": "ipython",
    "version": 3
   },
   "file_extension": ".py",
   "mimetype": "text/x-python",
   "name": "python",
   "nbconvert_exporter": "python",
   "pygments_lexer": "ipython3",
   "version": "3.6.6"
  }
 },
 "nbformat": 4,
 "nbformat_minor": 1
}
